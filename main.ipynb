{
 "cells": [
  {
   "cell_type": "markdown",
   "metadata": {},
   "source": [
    "**Importation et création du dictionnaire des classes** \n",
    "\n",
    "Il faudra tout d'abords commencer par importer et définir les classes utilisées"
   ]
  },
  {
   "cell_type": "code",
   "execution_count": 1,
   "metadata": {},
   "outputs": [],
   "source": [
    "import os\n",
    "from matplotlib import pyplot as plt\n",
    "import numpy as np\n",
    "import pandas as pd\n",
    "import torch\n",
    "import torch.nn.functional as F\n",
    "import torchvision\n",
    "import torch.nn as nn\n",
    "import torch.optim as optim\n",
    "from torch.utils.data import Dataset, DataLoader, random_split\n",
    "from PIL import Image\n",
    "import natsort\n",
    "from functools import reduce \n",
    "import time\n",
    "import matplotlib.pyplot as plt\n",
    "from matplotlib.pyplot import imread\n",
    "from skimage.transform import resize\n",
    "import numpy as np\n",
    "\n",
    "classes = { \n",
    "    0:\"Limitation de vitesse (20km/h)\",\n",
    "    1:\"Limitation de vitesse (30km/h)\", \n",
    "    2:\"Limitation de vitesse (50km/h)\", \n",
    "    3:\"Limitation de vitesse (60km/h)\", \n",
    "    4:\"Limitation de vitesse (70km/h)\", \n",
    "    5:\"Limitation de vitesse (80km/h)\", \n",
    "    6:\"Fin de limitation de vitesse (80km/h)\", \n",
    "    7:\"Limitation de vitesse (100km/h)\", \n",
    "    8:\"Limitation de vitesse (120km/h)\", \n",
    "    9:\"Interdiction de depasser\", \n",
    "    10:\"Interdiction de depasser pour vehicules > 3.5t\", \n",
    "    11:\"Intersection ou' vous etes prioritaire\", \n",
    "    12:\"Route prioritaire\", \n",
    "    13:\"Ceder le passage\", \n",
    "    14:\"Arret a' l'intersection\", \n",
    "    15:\"Circulation interdite\", \n",
    "    16:\"Acces interdit aux vehicules > 3.5t\", \n",
    "    17:\"Sens interdit\", \n",
    "    18:\"Danger\", \n",
    "    19:\"Virage a' gauche\", \n",
    "    20:\"Virage a' droite\", \n",
    "    21:\"Succession de virages\", \n",
    "    22:\"Cassis ou dos-d'ane\", \n",
    "    23:\"Chaussee glissante\", \n",
    "    24:\"Chaussee retrecie par la droite\", \n",
    "    25:\"Travaux en cours\", \n",
    "    26:\"Annonce feux\", \n",
    "    27:\"Passage pietons\", \n",
    "    28:\"Endroit frequente' par les enfants\", \n",
    "    29:\"Debouche' de cyclistes\", \n",
    "    30:\"Neige ou glace\",\n",
    "    31:\"Passage d'animaux sauvages\", \n",
    "    32:\"Fin des interdictions precedemment signalees\", \n",
    "    33:\"Direction obligatoire a' la prochaine intersection : a' droite\", \n",
    "    34:\"Direction obligatoire a' la prochaine intersection : a' gauche\", \n",
    "    35:\"Direction obligatoire a' la prochaine intersection : tout droit\", \n",
    "    36:\"Direction obligatoire a' la prochaine intersection : tout droit ou a' droite\", \n",
    "    37:\"Direction obligatoire a' la prochaine intersection : tout droit ou a' gauche\", \n",
    "    38:\"Contournement obligatoire de l'obstacle par la droite\", \n",
    "    39:\"Contournement obligatoire de l'obstacle par la gauche\", \n",
    "    40:\"Carrefour giratoire\", \n",
    "    41:\"Fin d'interdiction de depasser\", \n",
    "    42:\"Fin d'interdiction de depasser pour vehicules > 3.5t\" \n",
    "}"
   ]
  },
  {
   "cell_type": "markdown",
   "metadata": {},
   "source": [
    "**Préparation des données**\n",
    " \n",
    "Les datasets d'entrainement/validation seront préparés à l'aide de ImageFolder car les données sont organisées correctement pour cette fonction de création de Dataset.   \n",
    " \n",
    "Etant donné que les images passées aux modèles ont des tailles différentes, il est nécessaire d'appliquer à chaque fois une transformation pour transformer les images en tenseurs de taille 32x32, ce qui correspond aux dimensions d'input du modèle.  \n",
    " \n",
    "De plus, ImageFolder associe les labels aux noms des dossiers à l'aide d'un dictionnaire, il faudra donc appliquer une transformation sur ces nouveaux labels afin de restaurer les labels originaux.  \n",
    "   \n",
    "Un split est effectué sur le dataset d'ImageFolder initial afin d'obtenir un ensemble d'entraînement et un ensemble de validation avec une répartition 80/20. Le dataset de validation ne sera jamais utilisé pour s'entraîner et servira uniquement à juger les performances du modèle lors de son entraînement.\n",
    " \n",
    "Une fois ces deux nouveaux datasets créés, il seront chacuns chargés dans un DataLoader. La taille des batchs du loader d'entraînement seront légèrement plus petites afin d'éviter de passer des batchs trop gros lors de l'entraînement, et ces batchs seront shuffle afin d'éviter que le modèle apprend toujours sur les données dans le même ordre."
   ]
  },
  {
   "cell_type": "code",
   "execution_count": 3,
   "metadata": {},
   "outputs": [
    {
     "name": "stdout",
     "output_type": "stream",
     "text": [
      "Train dataset length size : 39210\n",
      "Train dataset length size : 7842\n"
     ]
    }
   ],
   "source": [
    "#Resize images to 32x32\n",
    "trans = torchvision.transforms.Compose([\n",
    "        torchvision.transforms.Resize((32,32)),\n",
    "        torchvision.transforms.ToTensor()\n",
    "    ])\n",
    "\n",
    "#Path to Dataset\n",
    "trainData = torchvision.datasets.ImageFolder(\"panneaux_route/Train\", transform=trans)\n",
    "\n",
    "#Restore original labels\n",
    "trainData.target_transform = lambda id: int(trainData.classes[id])\n",
    "\n",
    "#Division du dataset en train et validation\n",
    "trainSize = int(0.8 * len(trainData))\n",
    "validationSize = len(trainData) - trainSize\n",
    "trainDataset, validationDataset = random_split(trainData, [trainSize, validationSize])\n",
    "print(\"Train dataset length size :\",len(trainData))\n",
    "print(\"Train dataset length size :\",len(validationDataset))\n",
    "\n",
    "#Chargement dans un dataloader\n",
    "trainLoader = DataLoader(trainDataset, batch_size=256, shuffle=True)\n",
    "validationLoader = DataLoader(validationDataset, batch_size=1024)"
   ]
  },
  {
   "cell_type": "markdown",
   "metadata": {},
   "source": [
    "**Création et choix du modèle**\n",
    " \n",
    "Le modèle utilisé est similaire à celui du TP8 et est basé sur LeNet5.  \n",
    "   \n",
    "Le modèle implémente les fonctionnalitées suivantes :  \n",
    " - Dropout (0.5)  \n",
    " - Batch Normalisation(0.0002)  \n",
    " \n",
    "Ces deux méthodes permettent de réduire l'overfitting, ce qui améliore légerement la précision sur l'ensemble de validation et de test. Le gain le plus conséquent est celui apporté par le dropout avec environ 3-4% de gain en précision.  \n",
    " \n",
    "Des couches supplémentaires de convolutions ont été ajoutées comme sur le TP8 afin d'augmenter la complexité du modèle sans modifier les dimensions d'entrées ou de sortie des couches intermédiaires.  "
   ]
  },
  {
   "cell_type": "code",
   "execution_count": 4,
   "metadata": {},
   "outputs": [],
   "source": [
    "\n",
    "class LeNet5(nn.Module):\n",
    "    def __init__(self,dropout_p=0.5):\n",
    "        super().__init__()\n",
    "        self.conv1 = nn.Conv2d(3, 32, kernel_size=(3, 3))    \n",
    "        self.conv2 = nn.Conv2d(32, 32, kernel_size=(3, 3))\n",
    "        self.dropout1 = nn.Dropout(p=dropout_p)\n",
    "        self.batchnorm1 = nn.BatchNorm2d(32)\n",
    "        self.conv3 = nn.Conv2d(32, 64, kernel_size=(3, 3))    \n",
    "        self.conv4 = nn.Conv2d(64, 64, kernel_size=(3, 3)) \n",
    "        self.dropout2 = nn.Dropout(p=dropout_p)\n",
    "        self.batchnorm2 = nn.BatchNorm2d(64)\n",
    "        self.conv5 = nn.Conv2d(64, 128, kernel_size=(3, 3))    \n",
    "        self.conv6 = nn.Conv2d(128, 128, kernel_size=(3, 3)) \n",
    "        self.dropout3 = nn.Dropout(p=dropout_p)\n",
    "        self.batchnorm3 = nn.BatchNorm2d(128)\n",
    "        self.fc1 = nn.Linear(128, 256)\n",
    "        self.batchnorm4 = nn.BatchNorm1d(256)\n",
    "        self.fc2 = nn.Linear(256, 43)\n",
    "\n",
    "    def forward(self, input):\n",
    "        layer1 = F.relu(self.conv1(input))                  \n",
    "        layer2 = F.relu(self.conv2(layer1))\n",
    "        layer3 = F.max_pool2d(layer2, kernel_size=2, stride=2)\n",
    "        layer3_d = self.dropout1(layer3)\n",
    "        layer3_db = self.batchnorm1(layer3_d)\n",
    "        layer4 = F.relu(self.conv3(layer3_db))                  \n",
    "        layer5 = F.relu(self.conv4(layer4))            \n",
    "        layer6 = F.max_pool2d(layer5, kernel_size=2, stride=2)\n",
    "        layer6_d = self.dropout2(layer6)\n",
    "        layer6_db = self.batchnorm2(layer6_d)\n",
    "        layer7 = F.relu(self.conv5(layer6_db))                  \n",
    "        layer8 = F.relu(self.conv6(layer7))\n",
    "        layer8_d = self.dropout3(layer8)     \n",
    "        layer8_db = self.batchnorm3(layer8_d)       \n",
    "        layer9 = F.relu(self.fc1(torch.flatten(layer8_db,1)))  \n",
    "        layer9_b = self.batchnorm4(layer9)\n",
    "        layer10 = self.fc2(layer9_b)                        \n",
    "        return layer10\n",
    "\n",
    "\n",
    "mainModel = LeNet5(dropout_p=0.5)"
   ]
  },
  {
   "cell_type": "markdown",
   "metadata": {},
   "source": [
    "**Nombre de paramètres du modèle**  \n",
    "  \n",
    "La complexité du modèle reste raisonnable et celui-ci prend environ 40-50s pour finir de s'entraîner sur une epoch."
   ]
  },
  {
   "cell_type": "code",
   "execution_count": 5,
   "metadata": {},
   "outputs": [
    {
     "name": "stdout",
     "output_type": "stream",
     "text": [
      "torch.Size([32, 3, 3, 3])\n",
      "torch.Size([32])\n",
      "torch.Size([32, 32, 3, 3])\n",
      "torch.Size([32])\n",
      "torch.Size([32])\n",
      "torch.Size([32])\n",
      "torch.Size([64, 32, 3, 3])\n",
      "torch.Size([64])\n",
      "torch.Size([64, 64, 3, 3])\n",
      "torch.Size([64])\n",
      "torch.Size([64])\n",
      "torch.Size([64])\n",
      "torch.Size([128, 64, 3, 3])\n",
      "torch.Size([128])\n",
      "torch.Size([128, 128, 3, 3])\n",
      "torch.Size([128])\n",
      "torch.Size([128])\n",
      "torch.Size([128])\n",
      "torch.Size([256, 128])\n",
      "torch.Size([256])\n",
      "torch.Size([256])\n",
      "torch.Size([256])\n",
      "torch.Size([43, 256])\n",
      "torch.Size([43])\n",
      "total nb parameters:  332043\n"
     ]
    }
   ],
   "source": [
    "total_nb_par = 0\n",
    "for p in mainModel.parameters():\n",
    "    print(p.shape)\n",
    "    total_nb_par += reduce(lambda x, y: x*y, p.shape, 1)\n",
    "print(\"total nb parameters: \", total_nb_par)"
   ]
  },
  {
   "cell_type": "markdown",
   "metadata": {},
   "source": [
    "**Boucle d'entraînement**\n",
    "\n",
    "Notre boucle d'entraînement utilise une descente de gradient stochastique avec mini batch et implémente les fonctionnalitées suivantes :  \n",
    " - Weight decay (0.0002)  \n",
    " - Sauvegarde de la meilleure itération  \n",
    " \n",
    "La valeur du weight decay à été choisie en utilisant plusieurs valeurs différentes et en gardant celle qui apportait la meilleure précision sur l'ensemble de test.  \n",
    "  \n",
    "La sauvegarde de la meilleure itération remplace ici l'utilisation de l'early stop. A la fin de chaque epoch, la boucle d'entraînement sauvegarde les poids avec la meilleure précision sur l'ensemble de validation. Cette précision est obtenue à l'aide de notre fonction \"validate\", qui permet d'obtenir le score du modèle sur nos ensemble d'entraînement et de validation.  \n",
    "\n",
    "  \n"
   ]
  },
  {
   "cell_type": "code",
   "execution_count": 6,
   "metadata": {},
   "outputs": [],
   "source": [
    "def train_loop(train_loader, model, loss_map, lr=1e-3, epochs=20, weight_decay=0.0):\n",
    "    # use gpu if available\n",
    "    device = torch.device(\"cuda\" if torch.cuda.is_available() else \"cpu\")\n",
    "    model.to(device)\n",
    "    # create optimizer\n",
    "    optimizer = optim.Adam(model.parameters(), lr=lr, weight_decay=weight_decay)\n",
    "    history=[]\n",
    "\n",
    "    bestModel = mainModel.state_dict()\n",
    "    bestValidationAcc = 0\n",
    "    # Train model\n",
    "    model.train() \n",
    "    for epoch in range(epochs):\n",
    "        loss_epoch = 0.\n",
    "        previousTime = time.time()\n",
    "        for images, labels in train_loader:\n",
    "            # Transfers data to GPU\n",
    "            images, labels = images.to(device), labels.to(device)\n",
    "            # Primal computation\n",
    "            output = model(images)            \n",
    "            loss = loss_map(output, labels)            \n",
    "            # Gradient computation\n",
    "            model.zero_grad()\n",
    "            loss.backward()\n",
    "            # perform parameter update based on current gradients\n",
    "            optimizer.step()\n",
    "            # compute the epoch training loss\n",
    "            loss_epoch += loss.item()\n",
    "        # display the epoch training loss\n",
    "        currentTime = time.time()\n",
    "\n",
    "        validationAccuracy = round(validate(validationLoader, model).item(),3)\n",
    "        trainingAccuracy = round(validate(train_loader, model).item(),3)\n",
    "\n",
    "        history.append({\"epoch\" : epoch, \"loss\" : loss_epoch, \"train_acc\" : trainingAccuracy, \"val_acc\" : validationAccuracy})\n",
    "        print(f\"epoch : {epoch + 1}/{epochs}, loss = {loss_epoch:.6f}, validation_accuracy = {validationAccuracy}% , train_accuracy = {trainingAccuracy}%, epoch_time = {(currentTime - previousTime):.1f}s, time_remaining = {((currentTime - previousTime)*(epochs - epoch)):.1f}s\")\n",
    "        if(validationAccuracy > bestValidationAcc):\n",
    "            bestModel = mainModel.state_dict()\n",
    "            bestValidationAcc = validationAccuracy\n",
    "            print(f\"New best model with {validationAccuracy}% accuracy on validation set !\")\n",
    "    \n",
    "    mainModel.load_state_dict(bestModel)\n",
    "        \n",
    "    return history\n",
    "    \n",
    "def show_history(history):\n",
    "    figure, axis = plt.subplots(1, 2)\n",
    "    axis[0].plot([d[\"epoch\"] for d in history], [d[\"loss\"] for d in history])\n",
    "    axis[0].set_title(\"Loss per epoch\")\n",
    "\n",
    "    axis[1].plot([d[\"epoch\"] for d in history], [d[\"train_acc\"] for d in history], label=\"train\")\n",
    "    axis[1].plot([d[\"epoch\"] for d in history], [d[\"val_acc\"] for d in history], label=\"validation\")\n",
    "    axis[1].set_title(\"Accuracy per epoch\")\n",
    " \n",
    "    plt.legend() \n",
    "    plt.show() \n",
    "     \n",
    "#Renvoie le taux de réussite d'un model sur un dataloader contenant un tuple (images,labels)         \n",
    "def validate(data_loader, model):\n",
    "    nb_errors = 0\n",
    "    nb_tests = 0\n",
    "    device = next(model.parameters()).device # current model device\n",
    "    model.eval()\n",
    "    for images, labels in data_loader:\n",
    "        images, labels = images.to(device), labels.to(device) # move data same model device\n",
    "        output = model(images)\n",
    "        nb_errors += ((output.argmax(1)) != labels).sum()\n",
    "        nb_tests += len(images)\n",
    "    \n",
    "    return torch.div((100*(nb_tests-nb_errors)),nb_tests)\n"
   ]
  },
  {
   "cell_type": "markdown",
   "metadata": {},
   "source": [
    "**Execution**\n",
    " \n",
    "Le modèle charge automatiquement un ensemble de poids déjà existant nommé \"modelWeights\" si celui-ci existe.\n",
    "Dans ce cas là, le modèle ne s'entraîne pas. Dans le cas contraire, celui-ci lance la boucle d'entraînement puis sauvegarde sur disque les poids obtenus après l'entraînement.\n",
    " \n",
    "Le nombre d'epochs utilisé reste raisonnable ici, mais il serait potentiellement possible d'améliorer encore la précision du modèle avec plus de temps étant donné que l'on sauvegarde toujours la meilleure itération lors de l'entraînement.\n",
    "  \n",
    "Après entraînement, on arrive a environ 99.5% de précision sur l'ensemble de validation"
   ]
  },
  {
   "cell_type": "code",
   "execution_count": 7,
   "metadata": {},
   "outputs": [
    {
     "name": "stdout",
     "output_type": "stream",
     "text": [
      "Fnn before learning, accuracy = 3.672532558441162%\n",
      "epoch : 1/15, loss = 379.696723, validation_accuracy = 51.734% , train_accuracy = 51.973%, epoch_time = 48.8s, time_remaining = 732.3s\n",
      "New best model with 51.734% accuracy on validation set !\n",
      "epoch : 2/15, loss = 53.924402, validation_accuracy = 97.054% , train_accuracy = 97.59%, epoch_time = 43.6s, time_remaining = 610.8s\n",
      "New best model with 97.054% accuracy on validation set !\n",
      "epoch : 3/15, loss = 8.542366, validation_accuracy = 98.75% , train_accuracy = 99.334%, epoch_time = 43.7s, time_remaining = 568.4s\n",
      "New best model with 98.75% accuracy on validation set !\n",
      "epoch : 4/15, loss = 3.599239, validation_accuracy = 98.648% , train_accuracy = 99.321%, epoch_time = 46.5s, time_remaining = 558.4s\n",
      "epoch : 5/15, loss = 2.897272, validation_accuracy = 98.623% , train_accuracy = 99.509%, epoch_time = 45.4s, time_remaining = 499.2s\n",
      "epoch : 6/15, loss = 1.089940, validation_accuracy = 99.171% , train_accuracy = 99.866%, epoch_time = 45.8s, time_remaining = 458.5s\n",
      "New best model with 99.171% accuracy on validation set !\n",
      "epoch : 7/15, loss = 1.269063, validation_accuracy = 98.865% , train_accuracy = 99.334%, epoch_time = 45.9s, time_remaining = 413.2s\n",
      "epoch : 8/15, loss = 0.797915, validation_accuracy = 99.388% , train_accuracy = 99.943%, epoch_time = 45.9s, time_remaining = 367.0s\n",
      "New best model with 99.388% accuracy on validation set !\n",
      "epoch : 9/15, loss = 0.817329, validation_accuracy = 99.452% , train_accuracy = 99.908%, epoch_time = 45.8s, time_remaining = 320.9s\n",
      "New best model with 99.452% accuracy on validation set !\n",
      "epoch : 10/15, loss = 0.812616, validation_accuracy = 98.814% , train_accuracy = 99.704%, epoch_time = 45.9s, time_remaining = 275.1s\n",
      "epoch : 11/15, loss = 0.573871, validation_accuracy = 98.878% , train_accuracy = 99.742%, epoch_time = 46.4s, time_remaining = 232.0s\n",
      "epoch : 12/15, loss = 0.886070, validation_accuracy = 99.107% , train_accuracy = 99.802%, epoch_time = 46.1s, time_remaining = 184.2s\n",
      "epoch : 13/15, loss = 1.269993, validation_accuracy = 99.362% , train_accuracy = 99.962%, epoch_time = 45.9s, time_remaining = 137.6s\n",
      "epoch : 14/15, loss = 0.610808, validation_accuracy = 99.515% , train_accuracy = 99.981%, epoch_time = 45.8s, time_remaining = 91.7s\n",
      "New best model with 99.515% accuracy on validation set !\n",
      "epoch : 15/15, loss = 0.731628, validation_accuracy = 99.426% , train_accuracy = 99.933%, epoch_time = 45.9s, time_remaining = 45.9s\n"
     ]
    },
    {
     "data": {
      "image/png": "[encoded data removed]",
      "text/plain": [
       "<Figure size 432x288 with 2 Axes>"
      ]
     },
     "metadata": {
      "needs_background": "light"
     },
     "output_type": "display_data"
    },
    {
     "name": "stdout",
     "output_type": "stream",
     "text": [
      "Fnn after learning, accuracy = 99.4261703491211%\n",
      "Saving model\n"
     ]
    }
   ],
   "source": [
    "if(os.path.exists(\"modelWeights\")):   \n",
    "    mainModel.load_state_dict(torch.load(\"modelWeights\"))\n",
    "    print(\"Weights already exists\")\n",
    "    print(f\"Accuracy = {validate(validationLoader, mainModel)}%\")\n",
    "    \n",
    "else:\n",
    "    print(f\"Fnn before learning, accuracy = {validate(validationLoader, mainModel)}%\")\n",
    "    history=train_loop(\n",
    "        train_loader=trainLoader, \n",
    "        model=mainModel, \n",
    "        loss_map=nn.CrossEntropyLoss(),\n",
    "        lr=0.0005,\n",
    "        epochs=15,\n",
    "        weight_decay=0.0002)\n",
    "    show_history(history)\n",
    "    print(f\"Fnn after learning, accuracy = {validate(validationLoader, mainModel)}%\")\n",
    "\n",
    "    print(\"Saving model\")\n",
    "    torch.save(mainModel.state_dict(), \"modelWeights\")"
   ]
  },
  {
   "cell_type": "markdown",
   "metadata": {},
   "source": [
    "**Exploitation du modèle entraîné**  \n",
    " \n",
    "Une fois le modèle entraîné, il nous faudra ajouter des fonctions permettant d'exploiter celui-ci facilement en traitant les images passées en entrée et en retournant directement la prédiction.  \n",
    " \n",
    "La fonction predictFolder permet de passer au modèle toutes les images contenues dans le dossier passé en argument.  \n",
    "Afin d'éviter les problèmes de mémoire si le dossier contient trop d'images, il faudra créer un dataLoader pour passer des batchs d'image. Ce dataLoader se basera sur une Dataset custom simple servant à récupérer l'ensemble des images dans le dossier.  \n",
    " \n",
    "La fonction predictImage donne simplement l'image passée en argument au modèle et renvoie la prédiction de celui-ci.\n"
   ]
  },
  {
   "cell_type": "code",
   "execution_count": null,
   "metadata": {},
   "outputs": [],
   "source": [
    "#Renvoie la prédiction de model sur un tenseur contenant l'image à prédire\n",
    "def predict(imageTensor, model):\n",
    "    model.eval() \n",
    "    device = torch.device(\"cuda\" if torch.cuda.is_available() else \"cpu\")\n",
    "    model.to(device)\n",
    "    imageTensor = imageTensor.to(device)\n",
    "    return model(imageTensor.view(-1,3,32,32)).argmax(1)\n",
    "\n",
    "def predictFolder(path):\n",
    "\n",
    "    #Dataset used for test data\n",
    "    class basicFolderDataset(Dataset):\n",
    "        def __init__(self, main_dir, transform):\n",
    "            self.main_dir = main_dir\n",
    "            self.transform = transform\n",
    "            self.list = []\n",
    "            for file in os.listdir(main_dir):\n",
    "                if file.lower().endswith(('.png', '.jpg', '.jpeg', '.tiff', '.bmp', '.gif')):#All supported image formats here\n",
    "                    self.list.append(file)\n",
    "            self.list = natsort.natsorted(self.list)\n",
    "\n",
    "        def __len__(self):\n",
    "            return len(self.list)\n",
    "\n",
    "        def __getitem__(self, idx):\n",
    "            img_loc = os.path.join(self.main_dir, self.list[idx])\n",
    "            image = Image.open(img_loc).convert(\"RGB\")\n",
    "            tensor_image = self.transform(image)\n",
    "            return tensor_image\n",
    "\n",
    "    load = DataLoader(basicFolderDataset(path, transform=trans), batch_size=1024)\n",
    "    tens = None\n",
    "    for batch in load:\n",
    "        if tens is None:\n",
    "            tens = predict(batch,mainModel)\n",
    "        else:\n",
    "            tens = torch.cat((tens,predict(batch,mainModel)),0)\n",
    "    return tens\n",
    "\n",
    "def predictImage(path):\n",
    "    return predict(trans(Image.open(path).convert(\"RGB\")),mainModel).item()"
   ]
  },
  {
   "cell_type": "markdown",
   "metadata": {},
   "source": [
    "**Prédictions réelle**\n",
    " \n",
    "Les fonctions précédentes vont donc nous permettre de tester notre modèle sur l'ensemble de test. Afin de comparer les résultats de nos prédictions avec les labels donnés dans Test.csv, on va créer nous même un fichier Results.csv contenant l'ensemble des labels donnés par predictFolder.\n",
    " \n",
    "Après entraînement, notre modèle peut espérer un taux de réussite d'environ 96.5% sur l'ensemble de test.\n",
    "La comparaison est faite à l'aide de pandas en se basant sur le fichier de résultats créé et le fichier .csv contenant les labels des tests\n"
   ]
  },
  {
   "cell_type": "code",
   "execution_count": 8,
   "metadata": {},
   "outputs": [
    {
     "name": "stdout",
     "output_type": "stream",
     "text": [
      "Now predicting Test set\n",
      "Correct = 12192 | Total = 12630 | 96.53206650831353 %\n"
     ]
    }
   ],
   "source": [
    "\n",
    "print(\"Now predicting Test set\")\n",
    "\n",
    "f = open(\"Results.csv\",\"w\")\n",
    "\n",
    "f.write(\"class, translated\\n\")\n",
    "res = predictFolder(\"panneaux_route/Test\")\n",
    "for i in res:\n",
    "    f.write(str(i.item())+\",\"+classes.get(i.item())+\"\\n\")\n",
    "f.close()\n",
    "\n",
    "results = pd.read_csv(\"Results.csv\")['class']\n",
    "labels = pd.read_csv(\"panneaux_route/Test.csv\")['ClassId']\n",
    "\n",
    "correct = 0\n",
    "total = 0\n",
    "\n",
    "for i in range(len(results)):\n",
    "    if(results[i] == labels[i]):\n",
    "        correct += 1\n",
    "    total += 1\n",
    "\n",
    "print(\"Correct =\",correct,\"| Total =\",total,\"|\",(correct/total)*100,\"%\")"
   ]
  },
  {
   "cell_type": "code",
   "execution_count": 9,
   "metadata": {},
   "outputs": [
    {
     "name": "stdout",
     "output_type": "stream",
     "text": [
      "1\n",
      "Limitation de vitesse (30km/h)\n"
     ]
    }
   ],
   "source": [
    "print(predictImage(\"panneau.jpg\"))\n",
    "print(classes.get(predictImage(\"panneau.jpg\")))"
   ]
  },
  {
   "cell_type": "markdown",
   "metadata": {},
   "source": [
    "**Observations**\n",
    "\n",
    "On peut remarquer que la plupart des images dans le dataset d'entraînement proviennent d'une seule et même image ayant été légèrement modifiée. Par exemple, les 8 premières images pour les panneaux de label 0 sont les suivantes :  \n",
    "  \n",
    "![](panneaux_route/Train/0/00000_00000_00000.png) ![](panneaux_route/Train/0/00000_00000_00001.png) ![](panneaux_route/Train/0/00000_00000_00002.png) ![](panneaux_route/Train/0/00000_00000_00003.png) ![](panneaux_route/Train/0/00000_00000_00004.png) ![](panneaux_route/Train/0/00000_00000_00005.png) ![](panneaux_route/Train/0/00000_00000_00006.png) ![](panneaux_route/Train/0/00000_00000_00007.png)  \n",
    "  \n",
    "Évidemment, effectuer une telle transformation directement sur les données initiales provoque quelques problèmes. Il devient très difficile d'éviter l'overfitting, étant donné qu'il est pratiquement inévitable qu'une image de l'ensemble de validation ne soit pas basée sur une image existant aussi dans l'ensemble d'entraînement. De ce fait, nos performances sur l'ensemble de validation ne sont pas vraiment indicatives de nos performances réelles, ici, nous sommes à 99.5% de précision sur l'ensemble de validation, mais seulement 96.5% sur un test réel.  \n",
    "  \n",
    "Il serait donc intéressant d'aller voir sur quels panneaux notre modèle à donc des difficultées, par exemple, les 5 premières mauvaises prédiction de notre modèle sur l'ensemble de Test sont les suivantes :  \n",
    "\n",
    "<img src='panneaux_route/Test/00012.png' width=\"80\" height=\"80\">\n",
    "<img src='panneaux_route/Test/00039.png' width=\"80\" height=\"80\">\n",
    "<img src='panneaux_route/Test/00044.png' width=\"80\" height=\"80\">\n",
    "<img src='panneaux_route/Test/00049.png' width=\"80\" height=\"80\">\n",
    "<img src='panneaux_route/Test/00050.png' width=\"80\" height=\"80\">\n",
    "\n",
    "Et voici donc la prédiction de notre modèle pour chacun de ces panneaux :\n",
    "\n",
    "- **Neige ou glace** au lieu de **Chaussee glissante**\n",
    "- **Limitation de vitesse (60km/h)** au lieu de **Limitation de vitesse (120km/h)**\n",
    "- **Endroit frequente' par les enfants** au lieu de **Chaussee retrecie par la droite**\n",
    "- **Limitation de vitesse (20km/h)** au lieu de **Limitation de vitesse (120km/h)**\n",
    "- **Passage d'animaux sauvages** au lieu de **Travaux en cours**\n",
    "\n",
    "![](panneaux_route/Meta/30.png) ![](panneaux_route/Meta/3.png) ![](panneaux_route/Meta/28.png) ![](panneaux_route/Meta/0.png) ![](panneaux_route/Meta/31.png)\n",
    "  \n",
    "Comme on peut le constater, pour chaque erreur, les panneaux partagent beaucoup de traits communs.  \n",
    "De plus, le fait d'orienter ou d'avoir une résolution trop faible diminue aussi grandement le taux de réussite de notre modèle."
   ]
  }
 ],
 "metadata": {
  "interpreter": {
   "hash": "0e2b4823a3479359b1ac0e292467c6c8b83c17c3ed6275aa2673303cca00b390"
  },
  "kernelspec": {
   "display_name": "Python 3.8.10 ('env_pytorch')",
   "language": "python",
   "name": "python3"
  },
  "language_info": {
   "codemirror_mode": {
    "name": "ipython",
    "version": 3
   },
   "file_extension": ".py",
   "mimetype": "text/x-python",
   "name": "python",
   "nbconvert_exporter": "python",
   "pygments_lexer": "ipython3",
   "version": "3.9.10"
  },
  "orig_nbformat": 4
 },
 "nbformat": 4,
 "nbformat_minor": 2
}
